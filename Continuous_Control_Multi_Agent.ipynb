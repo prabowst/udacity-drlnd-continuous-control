{
 "cells": [
  {
   "cell_type": "markdown",
   "metadata": {},
   "source": [
    "# Continuous Control\n",
    "\n",
    "This project entails training a double-jointed arm in order to move to target locations. A reward of +0.1 is given to the agent for every step the agent's hand is within the goal location. This project aims to train the agent so that it is able to maintain its position at the target areas as long as possible. "
   ]
  },
  {
   "cell_type": "markdown",
   "metadata": {},
   "source": [
    "#### 1. Import Packages\n",
    "\n",
    "The following imports are necessary in order to run the environment and train the agent. The agent built to solve this the given task is based on DDPG (Deep Deterministic Policy Gradient) method. Unlike DQN and DDQN which were presented in the previous project, DDPG is a policy based method as opposed to value based method. "
   ]
  },
  {
   "cell_type": "code",
   "execution_count": null,
   "metadata": {},
   "outputs": [],
   "source": [
    "from unityagents import UnityEnvironment\n",
    "from collections import deque\n",
    "from ddpgarm import DDPG\n",
    "\n",
    "import matplotlib.pyplot as plt\n",
    "import numpy as np\n",
    "import torch\n",
    "import time as t_"
   ]
  },
  {
   "cell_type": "markdown",
   "metadata": {},
   "source": [
    "#### 2. Setting Up Environment\n",
    "\n",
    "The environment is provided by UnityEnvironment called Reacher.exe. This file is saved under the folder `Reacher_Windows_x86_64/Reacher.exe` since all of the training is done on a Windows 64-bit machine. The graphics is disabled during the training. Next, the brain of the environment is set before resetting the environment prior to exploring and/or training. \n",
    "\n",
    "The following information, however, is important to note:\n",
    "\n",
    "1. Actions are consisted of vectors with four numbers corresponding to the torque applicable to two joints:\n",
    "    - The entry of the action vector should be a number between -1 and 1\n",
    "2. There are 33 observation spaces including:\n",
    "    - Arm's position\n",
    "    - Arm's rotation\n",
    "    - Arm's velocity\n",
    "    - Arm's angular velocity"
   ]
  },
  {
   "cell_type": "code",
   "execution_count": 2,
   "metadata": {},
   "outputs": [
    {
     "name": "stderr",
     "output_type": "stream",
     "text": [
      "INFO:unityagents:\n",
      "'Academy' started successfully!\n",
      "Unity Academy name: Academy\n",
      "        Number of Brains: 1\n",
      "        Number of External Brains : 1\n",
      "        Lesson number : 0\n",
      "        Reset Parameters :\n",
      "\t\tgoal_speed -> 1.0\n",
      "\t\tgoal_size -> 5.0\n",
      "Unity brain name: ReacherBrain\n",
      "        Number of Visual Observations (per agent): 0\n",
      "        Vector Observation space type: continuous\n",
      "        Vector Observation space size (per agent): 33\n",
      "        Number of stacked Vector Observation: 1\n",
      "        Vector Action space type: continuous\n",
      "        Vector Action space size (per agent): 4\n",
      "        Vector Action descriptions: , , , \n"
     ]
    },
    {
     "name": "stdout",
     "output_type": "stream",
     "text": [
      "Number of agents: 20\n"
     ]
    }
   ],
   "source": [
    "env = UnityEnvironment(file_name='Reacher_Windows_x86_64/Reacher.exe', no_graphics=True) # 20 agents\n",
    "\n",
    "brain_name = env.brain_names[0]\n",
    "brain = env.brains[brain_name]\n",
    "\n",
    "env_info = env.reset(train_mode=True)[brain_name]\n",
    "num_agents = len(env_info.agents)\n",
    "print('Number of agents:', num_agents)\n",
    "action_size = brain.vector_action_space_size\n",
    "states = env_info.vector_observations\n",
    "state_size = states.shape[1]"
   ]
  },
  {
   "cell_type": "markdown",
   "metadata": {},
   "source": [
    "The DDPG agent is trained on the environment with 20 identical agents.\n",
    "\n",
    "Both of these agents will have the following neural network architecture:\n",
    "\n",
    "1. Actor Network\n",
    "    - `hidden_layer_1 = 128`, with `ReLU` activation function\n",
    "    - `hidden_layer_2 = 128`, with `ReLU` activation function\n",
    "    - `output_layer`, with `tanh` activation function\n",
    "    \n",
    "2. Critic Network\n",
    "    - `hidden_layer_1 = 128`, with `ReLU` activation function\n",
    "    - `hidden_layer_2 = 128`, with `ReLU` activation function\n",
    "    - `output_layer`, without activation function"
   ]
  },
  {
   "cell_type": "code",
   "execution_count": 3,
   "metadata": {},
   "outputs": [],
   "source": [
    "ddpg_agent = DDPG(n_state=state_size, n_action=action_size, num_agents=num_agents, seed=0)"
   ]
  },
  {
   "cell_type": "markdown",
   "metadata": {},
   "source": [
    "#### 3. Define model_train() Function to Train the Agent\n",
    "\n",
    "The following function is written to train the agent through a series of episodes. The total number of episodes is set to be 2000, with maximum of 1000 steps per episode. \n",
    "\n",
    "The scores for each episode is recorded at the end of every loop. The stopping criteria of the agent trained is an average score of 30 or more for the past 100 consecutive episodes. This average score is stored within a list of avg_scores with maximum length of deque as 100. \n",
    "\n",
    "The function returns both the scores list and average scores list (to be plotted later)."
   ]
  },
  {
   "cell_type": "code",
   "execution_count": 4,
   "metadata": {},
   "outputs": [],
   "source": [
    "def model_train(num_episodes=2000, total_time=1000, num_agents=num_agents):\n",
    "    \n",
    "    '''Function to train the DDPG agent on the Unity environment\n",
    "    \n",
    "    Params:\n",
    "        num_episodes (int)       : total number of episodes\n",
    "        total_time (int)         : number of steps taken by the agent\n",
    "        \n",
    "    Return:\n",
    "        scores (list)            : scores attained by the group of agents each episode\n",
    "        avg_scores (list)        : agents' mean scores per consecutive episodes\n",
    "    '''\n",
    "    \n",
    "    avg_scores = deque(maxlen=100)\n",
    "    scores = []\n",
    "    avg_100 = []\n",
    "    for episode in range(1, num_episodes+1):\n",
    "        env_info = env.reset(train_mode=True)[brain_name]\n",
    "        states = env_info.vector_observations\n",
    "        score = np.zeros(num_agents)\n",
    "        start = t_.time()\n",
    "        for t in range(total_time):\n",
    "            actions = []\n",
    "            for agent in range(num_agents):\n",
    "                ddpg_agent.reset()\n",
    "                actions.append(ddpg_agent.select_action(states[agent]))\n",
    "            env_info = env.step(actions)[brain_name]\n",
    "            states_ = env_info.vector_observations\n",
    "            rewards = env_info.rewards\n",
    "            dones = env_info.local_done\n",
    "            for agent in range(num_agents):\n",
    "                ddpg_agent.step(states[agent], actions[agent], rewards[agent], states_[agent], dones[agent])\n",
    "            for _ in range(num_updates):\n",
    "                ddpg_agent.check_learn()\n",
    "            states = states_\n",
    "            score += rewards\n",
    "            if np.any(dones):\n",
    "                break\n",
    "        end_t = round(t_.time() - start,2)\n",
    "        scores.append(np.mean(score))\n",
    "        avg_scores.append(np.mean(score))\n",
    "        avg_100.append(np.mean(avg_scores))\n",
    "        print('\\rEpisode {} \\tScore: {:.2f} \\tAverage Score: {:.2f} \\tRuntime: {} seconds'.format(episode, np.mean(score), np.mean(avg_scores), end_t), end='')\n",
    "        if episode % 100 == 0:\n",
    "            print('\\rEpisode {} \\tScore: {:.2f} \\tAverage Score: {:.2f} \\tRuntime: {} seconds'.format(episode, np.mean(score), np.mean(avg_scores), end_t))\n",
    "        if np.mean(avg_scores) >= 30.0:\n",
    "            print('\\nEnvironment solved in {:d} episodes!'.format(episode))\n",
    "            print('Average Final Score: {:.2f}'.format(np.mean(avg_scores)))\n",
    "            if num_agents == 1:\n",
    "                torch.save(ddpg_agent.act_local.state_dict(), 'saved_model/DDPG_actor_single_agent.pth')\n",
    "                torch.save(ddpg_agent.crit_local.state_dict(), 'saved_model/DDPG_critic_single_agent.pth')\n",
    "                break\n",
    "            else:\n",
    "                torch.save(ddpg_agent.act_local.state_dict(), 'saved_model/DDPG_actor_multi_agents.pth')\n",
    "                torch.save(ddpg_agent.crit_local.state_dict(), 'saved_model/DDPG_critic_multi_agents.pth')\n",
    "                break\n",
    "            print('Model weights have been saved!')\n",
    "    return scores, avg_100"
   ]
  },
  {
   "cell_type": "code",
   "execution_count": 5,
   "metadata": {},
   "outputs": [
    {
     "name": "stdout",
     "output_type": "stream",
     "text": [
      "Episode 100 \tScore: 38.88 \tAverage Score: 16.88 \tRuntime: 69.42 seconds\n",
      "Episode 137 \tScore: 39.08 \tAverage Score: 30.30 \tRuntime: 65.69 seconds\n",
      "Environment solved in 137 episodes!\n",
      "Average Final Score: 30.30\n"
     ]
    }
   ],
   "source": [
    "ddpg_scores, ddpg_avg_scores = model_train()"
   ]
  },
  {
   "cell_type": "markdown",
   "metadata": {},
   "source": [
    "The results show that the agent is able to solve the environment with average final score of 30.30 after 137 episodes."
   ]
  },
  {
   "cell_type": "code",
   "execution_count": 8,
   "metadata": {},
   "outputs": [
    {
     "data": {
      "image/png": "[encoded data removed]",
      "text/plain": [
       "<Figure size 720x432 with 1 Axes>"
      ]
     },
     "metadata": {
      "needs_background": "light"
     },
     "output_type": "display_data"
    }
   ],
   "source": [
    "index = [i+1 for i in range(len(ddpg_scores))]\n",
    "plt.figure(figsize=(10,6))\n",
    "plt.plot(index, ddpg_scores, label='Scores')\n",
    "plt.hlines(30, -10, len(ddpg_scores)+1, colors = 'k', linestyle='dashdot', linewidth=2, label='Performance Goal')\n",
    "plt.plot(index, ddpg_avg_scores, 'r', linewidth=3, label='Avg Scores')\n",
    "plt.title('DDPG Multi Agent')\n",
    "plt.xlabel('Number of Episodes')\n",
    "plt.ylabel('Scores')\n",
    "plt.axis('tight')\n",
    "plt.legend()\n",
    "plt.savefig('figures/ddpg_multi_agent.png')\n",
    "plt.show()"
   ]
  },
  {
   "cell_type": "markdown",
   "metadata": {},
   "source": [
    "#### 4. Discussion and Observations\n",
    "\n",
    "The plots available suggest that DDPG has a solid consistency in terms of learning from the environment. Both the scores and average scores seem to be consistently increasing until 65-70. In which after that many episodes, the maximum training score of the agent hovers around 35-40 while the average scores for the past (up to) 100 scores are steadily growing to 30.  \n",
    "\n",
    "In the process of completing the project, numerous combinations of hyperparameters were implemented for DDPG. Among 30 or so combinations, this hyperparameters were found to be the most optimal:\n",
    "\n",
    "1. epsilon = 1.0\n",
    "2. eps_min = 0.01\n",
    "3. eps_decay = 1e-6\n",
    "4. gamma = 0.99\n",
    "5. tau = 0.001\n",
    "6. learning rate\n",
    "    - 0.0001 for Actor\n",
    "    - 0.0003 for Critic\n",
    "7. Deep QNetwork:\n",
    "    - hidden_layer_1 = 128, with ReLU\n",
    "    - hidden_layer_2 = 128, with ReLU\n",
    "    - output_layer\n",
    "        - tanh activation function for Actor\n",
    "        - no activation function for Critic\n",
    "8. targetUpdateNet = 20\n",
    "9. num_update = 10\n",
    "9. seed = 0\n",
    "\n",
    "One limiting factor in exploring all of these hyperparameters is definitely the time it takes to train the agent. Therefore, the model can be improved further by either tweaking the DDPG Agent's hyperparameters or the architecture of the neural network itself, e.g. learning rate, number of hidden layers, number of neurons per hidden layer, activation function (LeakyReLU instead of ReLU), etc."
   ]
  },
  {
   "cell_type": "code",
   "execution_count": 7,
   "metadata": {},
   "outputs": [],
   "source": [
    "env.close()"
   ]
  }
 ],
 "metadata": {
  "kernelspec": {
   "display_name": "drlnd",
   "language": "python",
   "name": "drlnd"
  },
  "language_info": {
   "codemirror_mode": {
    "name": "ipython",
    "version": 3
   },
   "file_extension": ".py",
   "mimetype": "text/x-python",
   "name": "python",
   "nbconvert_exporter": "python",
   "pygments_lexer": "ipython3",
   "version": "3.6.10"
  }
 },
 "nbformat": 4,
 "nbformat_minor": 4
}
